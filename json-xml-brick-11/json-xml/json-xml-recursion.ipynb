{
 "cells": [
  {
   "cell_type": "markdown",
   "metadata": {
    "slideshow": {
     "slide_type": "slide"
    }
   },
   "source": [
    "## JSON; Javascript Object Notation"
   ]
  },
  {
   "cell_type": "markdown",
   "metadata": {},
   "source": [
    "![img](img/Working-With-JSON-Data-in-Python_Watermarked.webp)"
   ]
  },
  {
   "cell_type": "markdown",
   "metadata": {},
   "source": [
    "(image totally belongs to Real Python and not us. Source [here](https://realpython.com/python-json/) )"
   ]
  },
  {
   "cell_type": "markdown",
   "metadata": {
    "slideshow": {
     "slide_type": "slide"
    }
   },
   "source": [
    "## Learning Goals:\n",
    "\n",
    "You will be able to:\n",
    "* Together explore an unknown JSON schemas\n",
    "* Access and manipulate data inside a JSON file\n",
    "* transform it to another data structure\n",
    "* Practice on a new json"
   ]
  },
  {
   "cell_type": "markdown",
   "metadata": {
    "slideshow": {
     "slide_type": "slide"
    }
   },
   "source": [
    "## Why do we care about JSON?"
   ]
  },
  {
   "cell_type": "markdown",
   "metadata": {
    "slideshow": {
     "slide_type": "slide"
    }
   },
   "source": [
    "### Great interest in JSON\n",
    "![json](img/stackoverflowtrends.svg)"
   ]
  },
  {
   "cell_type": "markdown",
   "metadata": {
    "slideshow": {
     "slide_type": "slide"
    }
   },
   "source": [
    "### JSON and python are popular"
   ]
  },
  {
   "cell_type": "markdown",
   "metadata": {
    "slideshow": {
     "slide_type": "-"
    }
   },
   "source": [
    "![trends](img/google_trends.png)"
   ]
  },
  {
   "cell_type": "markdown",
   "metadata": {
    "slideshow": {
     "slide_type": "slide"
    }
   },
   "source": [
    "## The OG reference on [JSON](https://www.json.org/)"
   ]
  },
  {
   "cell_type": "markdown",
   "metadata": {
    "slideshow": {
     "slide_type": "slide"
    }
   },
   "source": [
    "### Import the `json` library"
   ]
  },
  {
   "cell_type": "code",
   "execution_count": 10,
   "metadata": {
    "slideshow": {
     "slide_type": "fragment"
    }
   },
   "outputs": [],
   "source": [
    "import json as json"
   ]
  },
  {
   "cell_type": "markdown",
   "metadata": {
    "slideshow": {
     "slide_type": "fragment"
    }
   },
   "source": [
    "`json` library [documentation](https://docs.python.org/3/library/json.html)"
   ]
  },
  {
   "cell_type": "markdown",
   "metadata": {
    "slideshow": {
     "slide_type": "slide"
    }
   },
   "source": [
    "### What function do we use to load a json?\n",
    "**Task**: the file is called `google-maps-geocoding-results.json`<br>\n",
    "assign it to `data`"
   ]
  },
  {
   "cell_type": "code",
   "execution_count": null,
   "metadata": {
    "slideshow": {
     "slide_type": "fragment"
    }
   },
   "outputs": [],
   "source": []
  },
  {
   "cell_type": "code",
   "execution_count": 11,
   "metadata": {
    "slideshow": {
     "slide_type": "fragment"
    }
   },
   "outputs": [],
   "source": [
    "f = open('google-maps-geocoding-results.json')\n",
    "data = json.load(f)"
   ]
  },
  {
   "cell_type": "markdown",
   "metadata": {
    "slideshow": {
     "slide_type": "slide"
    }
   },
   "source": [
    "### Let's look at the data"
   ]
  },
  {
   "cell_type": "code",
   "execution_count": 4,
   "metadata": {
    "slideshow": {
     "slide_type": "fragment"
    }
   },
   "outputs": [
    {
     "name": "stdout",
     "output_type": "stream",
     "text": [
      "{'results': [{'address_components': [{'long_name': '708', 'short_name': '708', 'types': ['street_number']}, {'long_name': 'Main street', 'short_name': 'Main St', 'types': ['route']}, {'long_name': 'Central Business District', 'short_name': 'Central Business District', 'types': ['neighborhood', 'political']}, {'long_name': 'Houston', 'short_name': 'Houston', 'types': ['locality', 'political']}, {'long_name': 'Harris County', 'short_name': 'Harris County', 'types': ['administrative_area_level_2', 'political']}, {'long_name': 'Texas', 'short_name': 'TX', 'types': ['administrative_area_level_1', 'political']}, {'long_name': 'United States', 'short_name': 'US', 'types': ['country', 'political']}, {'long_name': '77002', 'short_name': '77002', 'types': ['postal_code']}], 'formatted_address': '708 Main St, Houston, TX 77002, USA', 'geometry': {'location': {'lat': 29.7590859, 'lng': -95.3636325}, 'location_type': 'ROOFTOP', 'viewport': {'northeast': {'lat': 29.7604348802915, 'lng': -95.3622835197085}, 'southwest': {'lat': 29.7577369197085, 'lng': -95.3649814802915}}}, 'place_id': 'ChIJ33MU3Dq_QIYRLea64akdlgQ', 'plus_code': {'compound_code': 'QJ5P+JG Downtown Houston, Houston, TX, United States', 'global_code': '76X6QJ5P+JG'}, 'types': ['street_address']}], 'status': 'OK'}\n"
     ]
    }
   ],
   "source": [
    "print(data)"
   ]
  },
  {
   "cell_type": "code",
   "execution_count": 12,
   "metadata": {
    "slideshow": {
     "slide_type": "fragment"
    }
   },
   "outputs": [
    {
     "data": {
      "text/plain": [
       "{'results': [{'address_components': [{'long_name': '708',\n",
       "     'short_name': '708',\n",
       "     'types': ['street_number']},\n",
       "    {'long_name': 'Main street', 'short_name': 'Main St', 'types': ['route']},\n",
       "    {'long_name': 'Central Business District',\n",
       "     'short_name': 'Central Business District',\n",
       "     'types': ['neighborhood', 'political']},\n",
       "    {'long_name': 'Houston',\n",
       "     'short_name': 'Houston',\n",
       "     'types': ['locality', 'political']},\n",
       "    {'long_name': 'Harris County',\n",
       "     'short_name': 'Harris County',\n",
       "     'types': ['administrative_area_level_2', 'political']},\n",
       "    {'long_name': 'Texas',\n",
       "     'short_name': 'TX',\n",
       "     'types': ['administrative_area_level_1', 'political']},\n",
       "    {'long_name': 'United States',\n",
       "     'short_name': 'US',\n",
       "     'types': ['country', 'political']},\n",
       "    {'long_name': '77002', 'short_name': '77002', 'types': ['postal_code']}],\n",
       "   'formatted_address': '708 Main St, Houston, TX 77002, USA',\n",
       "   'geometry': {'location': {'lat': 29.7590859, 'lng': -95.3636325},\n",
       "    'location_type': 'ROOFTOP',\n",
       "    'viewport': {'northeast': {'lat': 29.7604348802915,\n",
       "      'lng': -95.3622835197085},\n",
       "     'southwest': {'lat': 29.7577369197085, 'lng': -95.3649814802915}}},\n",
       "   'place_id': 'ChIJ33MU3Dq_QIYRLea64akdlgQ',\n",
       "   'plus_code': {'compound_code': 'QJ5P+JG Downtown Houston, Houston, TX, United States',\n",
       "    'global_code': '76X6QJ5P+JG'},\n",
       "   'types': ['street_address']}],\n",
       " 'status': 'OK'}"
      ]
     },
     "execution_count": 12,
     "metadata": {},
     "output_type": "execute_result"
    }
   ],
   "source": [
    "data"
   ]
  },
  {
   "cell_type": "markdown",
   "metadata": {
    "slideshow": {
     "slide_type": "slide"
    }
   },
   "source": [
    "### Hm, that second bit looks familiar...."
   ]
  },
  {
   "cell_type": "markdown",
   "metadata": {
    "slideshow": {
     "slide_type": "fragment"
    }
   },
   "source": [
    "#### How does python classify the json object?"
   ]
  },
  {
   "cell_type": "code",
   "execution_count": 13,
   "metadata": {},
   "outputs": [
    {
     "data": {
      "text/plain": [
       "dict"
      ]
     },
     "execution_count": 13,
     "metadata": {},
     "output_type": "execute_result"
    }
   ],
   "source": [
    "type(data)"
   ]
  },
  {
   "cell_type": "markdown",
   "metadata": {
    "slideshow": {
     "slide_type": "slide"
    }
   },
   "source": [
    "Because we know it's a `dictionary` we can now reference `keys`, `values`, and `items`"
   ]
  },
  {
   "cell_type": "markdown",
   "metadata": {
    "slideshow": {
     "slide_type": "slide"
    }
   },
   "source": [
    "#### Look at the data and try to navigate it!"
   ]
  },
  {
   "cell_type": "code",
   "execution_count": 7,
   "metadata": {},
   "outputs": [
    {
     "data": {
      "text/plain": [
       "dict_keys(['results', 'status'])"
      ]
     },
     "execution_count": 7,
     "metadata": {},
     "output_type": "execute_result"
    }
   ],
   "source": [
    "data.keys()"
   ]
  },
  {
   "cell_type": "markdown",
   "metadata": {
    "slideshow": {
     "slide_type": "slide"
    }
   },
   "source": [
    "#### What type of item is `results`?"
   ]
  },
  {
   "cell_type": "code",
   "execution_count": 8,
   "metadata": {},
   "outputs": [
    {
     "data": {
      "text/plain": [
       "[{'address_components': [{'long_name': '708',\n",
       "    'short_name': '708',\n",
       "    'types': ['street_number']},\n",
       "   {'long_name': 'Main street', 'short_name': 'Main St', 'types': ['route']},\n",
       "   {'long_name': 'Central Business District',\n",
       "    'short_name': 'Central Business District',\n",
       "    'types': ['neighborhood', 'political']},\n",
       "   {'long_name': 'Houston',\n",
       "    'short_name': 'Houston',\n",
       "    'types': ['locality', 'political']},\n",
       "   {'long_name': 'Harris County',\n",
       "    'short_name': 'Harris County',\n",
       "    'types': ['administrative_area_level_2', 'political']},\n",
       "   {'long_name': 'Texas',\n",
       "    'short_name': 'TX',\n",
       "    'types': ['administrative_area_level_1', 'political']},\n",
       "   {'long_name': 'United States',\n",
       "    'short_name': 'US',\n",
       "    'types': ['country', 'political']},\n",
       "   {'long_name': '77002', 'short_name': '77002', 'types': ['postal_code']}],\n",
       "  'formatted_address': '708 Main St, Houston, TX 77002, USA',\n",
       "  'geometry': {'location': {'lat': 29.7590859, 'lng': -95.3636325},\n",
       "   'location_type': 'ROOFTOP',\n",
       "   'viewport': {'northeast': {'lat': 29.7604348802915,\n",
       "     'lng': -95.3622835197085},\n",
       "    'southwest': {'lat': 29.7577369197085, 'lng': -95.3649814802915}}},\n",
       "  'place_id': 'ChIJ33MU3Dq_QIYRLea64akdlgQ',\n",
       "  'plus_code': {'compound_code': 'QJ5P+JG Downtown Houston, Houston, TX, United States',\n",
       "   'global_code': '76X6QJ5P+JG'},\n",
       "  'types': ['street_address']}]"
      ]
     },
     "execution_count": 8,
     "metadata": {},
     "output_type": "execute_result"
    }
   ],
   "source": [
    "results = data['results']\n",
    "results"
   ]
  },
  {
   "cell_type": "code",
   "execution_count": 9,
   "metadata": {
    "slideshow": {
     "slide_type": "fragment"
    }
   },
   "outputs": [
    {
     "data": {
      "text/plain": [
       "list"
      ]
     },
     "execution_count": 9,
     "metadata": {},
     "output_type": "execute_result"
    }
   ],
   "source": [
    "type(results)"
   ]
  },
  {
   "cell_type": "markdown",
   "metadata": {
    "slideshow": {
     "slide_type": "slide"
    }
   },
   "source": [
    "But what `type` is the first element in `results`?"
   ]
  },
  {
   "cell_type": "code",
   "execution_count": null,
   "metadata": {},
   "outputs": [],
   "source": [
    "results[0]"
   ]
  },
  {
   "cell_type": "markdown",
   "metadata": {
    "slideshow": {
     "slide_type": "slide"
    }
   },
   "source": [
    "#### So what are the keys?\n",
    "Is this where we finally find the relevent information?"
   ]
  },
  {
   "cell_type": "code",
   "execution_count": null,
   "metadata": {},
   "outputs": [],
   "source": [
    "data['results'][0].keys()"
   ]
  },
  {
   "cell_type": "markdown",
   "metadata": {
    "slideshow": {
     "slide_type": "slide"
    }
   },
   "source": [
    "**Okay**....Check the type of `address_components`, does it have keys or a list?<br>\n",
    "Let's target a specific value like 'Main street'"
   ]
  },
  {
   "cell_type": "code",
   "execution_count": null,
   "metadata": {},
   "outputs": [],
   "source": [
    "data['results'][0]['address_components'][1].keys()"
   ]
  },
  {
   "cell_type": "markdown",
   "metadata": {
    "slideshow": {
     "slide_type": "slide"
    }
   },
   "source": [
    "#### Okay, so let's use a for loop to get the entire address information"
   ]
  },
  {
   "cell_type": "code",
   "execution_count": null,
   "metadata": {},
   "outputs": [],
   "source": [
    "for address_component in data['results']:\n",
    "    for component in address_component['address_components']:\n",
    "        print(component['long_name'])"
   ]
  },
  {
   "cell_type": "markdown",
   "metadata": {
    "slideshow": {
     "slide_type": "slide"
    }
   },
   "source": [
    "#### Task:\n",
    "- In what type of structure is the lat and long located?\n",
    "- How would you access the lat and long of this lcoation?\n",
    "- Write the code to access the lat and long"
   ]
  },
  {
   "cell_type": "code",
   "execution_count": null,
   "metadata": {},
   "outputs": [],
   "source": []
  },
  {
   "cell_type": "markdown",
   "metadata": {
    "slideshow": {
     "slide_type": "slide"
    }
   },
   "source": [
    "### Analysis: \n",
    "We cannot run any machine learning algorithms on a json, the data needs to be in tabular format.\n",
    "\n",
    "What if we wanted to store that information to a df?"
   ]
  },
  {
   "cell_type": "code",
   "execution_count": null,
   "metadata": {
    "slideshow": {
     "slide_type": "slide"
    }
   },
   "outputs": [],
   "source": [
    "import pandas as pd\n",
    "\n",
    "dfcols = ['number', 'street', 'district', 'city', 'county', 'state', 'country', 'zip']\n",
    "df = pd.DataFrame(columns=dfcols)\n",
    "\n",
    "address = []\n",
    "\n",
    "for address_component in data['results']:\n",
    "    for component in address_component['address_components']:\n",
    "        address.append(component['long_name'])\n",
    "    df = df.append(pd.Series(address, index=dfcols), ignore_index=True)\n",
    "\n",
    "df.head()"
   ]
  },
  {
   "cell_type": "markdown",
   "metadata": {
    "slideshow": {
     "slide_type": "slide"
    }
   },
   "source": [
    "#### Task:\n",
    "How would you enhance the code above to add the primary latitude and longitude for this location to the data frame?"
   ]
  },
  {
   "cell_type": "code",
   "execution_count": null,
   "metadata": {},
   "outputs": [],
   "source": []
  },
  {
   "cell_type": "markdown",
   "metadata": {
    "slideshow": {
     "slide_type": "slide"
    }
   },
   "source": [
    "### Why are we using this difficult process? isn't there an easier way?"
   ]
  },
  {
   "cell_type": "markdown",
   "metadata": {
    "slideshow": {
     "slide_type": "fragment"
    }
   },
   "source": [
    "there is `pd.DataFrame.from_dict` and `pd.read_json`, but if you try them, what happens?"
   ]
  },
  {
   "cell_type": "code",
   "execution_count": null,
   "metadata": {},
   "outputs": [],
   "source": []
  },
  {
   "cell_type": "markdown",
   "metadata": {
    "slideshow": {
     "slide_type": "slide"
    }
   },
   "source": [
    "There is also `pandas.io.json import json_normalize` you can run to _flatten_ nested data, but you should *always* look at your data first before transforming it. "
   ]
  },
  {
   "cell_type": "markdown",
   "metadata": {
    "slideshow": {
     "slide_type": "slide"
    }
   },
   "source": [
    "## Integration:\n",
    "\n",
    "Use the json `brewreydb.json` to build a table of relevant beer information for analysis.\n"
   ]
  },
  {
   "cell_type": "code",
   "execution_count": null,
   "metadata": {},
   "outputs": [],
   "source": [
    "beer = open('brewerydb.json')\n",
    "beer_data = json.load(beer)"
   ]
  },
  {
   "cell_type": "markdown",
   "metadata": {
    "slideshow": {
     "slide_type": "slide"
    }
   },
   "source": [
    "### Assessment:"
   ]
  },
  {
   "cell_type": "markdown",
   "metadata": {
    "slideshow": {
     "slide_type": "fragment"
    }
   },
   "source": [
    "True/False: JSON files and dictionaries are the same"
   ]
  },
  {
   "cell_type": "markdown",
   "metadata": {
    "slideshow": {
     "slide_type": "fragment"
    }
   },
   "source": [
    "**False**"
   ]
  },
  {
   "cell_type": "markdown",
   "metadata": {
    "slideshow": {
     "slide_type": "fragment"
    }
   },
   "source": [
    "True/False: the `json` library loads jsons into dictionary format in python"
   ]
  },
  {
   "cell_type": "markdown",
   "metadata": {
    "slideshow": {
     "slide_type": "fragment"
    }
   },
   "source": [
    "**True**"
   ]
  },
  {
   "cell_type": "markdown",
   "metadata": {
    "slideshow": {
     "slide_type": "fragment"
    }
   },
   "source": [
    "APIs will most often provide data in what format:\n",
    "\n",
    "- csv\n",
    "- xml\n",
    "- dataframe\n",
    "- yaml\n",
    "- json"
   ]
  },
  {
   "cell_type": "markdown",
   "metadata": {
    "slideshow": {
     "slide_type": "slide"
    }
   },
   "source": [
    "**Further Reading**\n",
    "\n",
    "[article 1](https://towardsdatascience.com/the-easy-way-to-work-with-csv-json-and-xml-in-python-5056f9325ca9)<br>\n",
    "[article 2](https://towardsdatascience.com/my-love-affair-with-json-edaca39e8320)<br>\n",
    "[article 3](https://medium.com/@martindrapeau/the-state-of-csv-and-json-d97d1486333)"
   ]
  },
  {
   "cell_type": "markdown",
   "metadata": {
    "slideshow": {
     "slide_type": "slide"
    }
   },
   "source": [
    "### Some neat tools for JSONs"
   ]
  },
  {
   "cell_type": "markdown",
   "metadata": {
    "slideshow": {
     "slide_type": "fragment"
    }
   },
   "source": [
    "[The JSON Validator](https://jsonlint.com)<br>\n",
    "JSONLint is the free online validator and reformatter tool for JSON, a lightweight data-interchange format.\n",
    "\n",
    "Andy used it when:\n",
    "- created my own json and want to validate the format\n",
    "- copied a json, want to make sure I copied it right\n",
    " - it's ugly and I want to see it in a prettier way, like without its glasses and hair down\n",
    "- everything aws is done through json objects - permissions, provisioning servers and anything else\n"
   ]
  },
  {
   "cell_type": "markdown",
   "metadata": {
    "slideshow": {
     "slide_type": "fragment"
    }
   },
   "source": [
    "[JSONview](https://chrome.google.com/webstore/detail/jsonview/gmegofmjomhknnokphhckolhcffdaihd?hl=en) - a chrome plug in that lets you view jsons nicely\n"
   ]
  }
 ],
 "metadata": {
  "kernelspec": {
   "display_name": "Python 3",
   "language": "python",
   "name": "python3"
  },
  "language_info": {
   "codemirror_mode": {
    "name": "ipython",
    "version": 3
   },
   "file_extension": ".py",
   "mimetype": "text/x-python",
   "name": "python",
   "nbconvert_exporter": "python",
   "pygments_lexer": "ipython3",
   "version": "3.6.6"
  }
 },
 "nbformat": 4,
 "nbformat_minor": 2
}
